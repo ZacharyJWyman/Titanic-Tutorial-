{
 "cells": [
  {
   "cell_type": "markdown",
   "metadata": {
    "papermill": {
     "duration": 0.038529,
     "end_time": "2020-09-12T08:09:10.123376",
     "exception": false,
     "start_time": "2020-09-12T08:09:10.084847",
     "status": "completed"
    },
    "tags": []
   },
   "source": [
    "# Titanic: A Beginner's Tutorial"
   ]
  },
  {
   "cell_type": "markdown",
   "metadata": {
    "papermill": {
     "duration": 0.036088,
     "end_time": "2020-09-12T08:09:10.195010",
     "exception": false,
     "start_time": "2020-09-12T08:09:10.158922",
     "status": "completed"
    },
    "tags": []
   },
   "source": [
    "Please feel free to ask any questions to clarify topics in the comment section. This dataset is a great guide to get your feet wet in predictive modeling and machine learning. "
   ]
  },
  {
   "cell_type": "markdown",
   "metadata": {
    "papermill": {
     "duration": 0.03631,
     "end_time": "2020-09-12T08:09:10.267267",
     "exception": false,
     "start_time": "2020-09-12T08:09:10.230957",
     "status": "completed"
    },
    "tags": []
   },
   "source": [
    "## Table of Contents:\n",
    "* [Cleaning the Dataframe](#Cleaning-the-Dataframe)  \n",
    "    * [Age](#Age)  \n",
    "    * [Cabin](#Cabin)  \n",
    "    * [Embarked](#Embarked)  \n",
    "* [Exploratory Analysis](#Exploratory-Analysis)\n",
    "* [Feature Engineering](#Feature-Engineering)  \n",
    "* [One Hot Encoding](#One-Hot-Encoding)\n",
    "* [Preparing the Data](#Preparing-the-Data)\n",
    "* [Tuning Hyperparameters](#Tuning-Hyperparameters)\n",
    "* [Submission to CSV](#Submission-To-CSV)"
   ]
  },
  {
   "cell_type": "code",
   "execution_count": 1,
   "metadata": {
    "execution": {
     "iopub.execute_input": "2020-09-12T08:09:10.343152Z",
     "iopub.status.busy": "2020-09-12T08:09:10.342326Z",
     "iopub.status.idle": "2020-09-12T08:09:10.345271Z",
     "shell.execute_reply": "2020-09-12T08:09:10.344673Z"
    },
    "papermill": {
     "duration": 0.042777,
     "end_time": "2020-09-12T08:09:10.345387",
     "exception": false,
     "start_time": "2020-09-12T08:09:10.302610",
     "status": "completed"
    },
    "tags": []
   },
   "outputs": [],
   "source": [
    "# import libraries\n",
    "import pandas as pd\n",
    "import numpy as np"
   ]
  },
  {
   "cell_type": "code",
   "execution_count": 2,
   "metadata": {
    "_cell_guid": "79c7e3d0-c299-4dcb-8224-4455121ee9b0",
    "_uuid": "d629ff2d2480ee46fbb7e2d37f6b5fab8052498a",
    "execution": {
     "iopub.execute_input": "2020-09-12T08:09:10.425704Z",
     "iopub.status.busy": "2020-09-12T08:09:10.425057Z",
     "iopub.status.idle": "2020-09-12T08:09:10.446024Z",
     "shell.execute_reply": "2020-09-12T08:09:10.445370Z"
    },
    "papermill": {
     "duration": 0.064381,
     "end_time": "2020-09-12T08:09:10.446161",
     "exception": false,
     "start_time": "2020-09-12T08:09:10.381780",
     "status": "completed"
    },
    "tags": []
   },
   "outputs": [],
   "source": [
    "train = pd.read_csv(r'/kaggle/input/titanic/train.csv')\n",
    "test = pd.read_csv(r'/kaggle/input/titanic/test.csv')"
   ]
  },
  {
   "cell_type": "code",
   "execution_count": 3,
   "metadata": {
    "execution": {
     "iopub.execute_input": "2020-09-12T08:09:10.533511Z",
     "iopub.status.busy": "2020-09-12T08:09:10.526642Z",
     "iopub.status.idle": "2020-09-12T08:09:10.545531Z",
     "shell.execute_reply": "2020-09-12T08:09:10.545002Z"
    },
    "papermill": {
     "duration": 0.063689,
     "end_time": "2020-09-12T08:09:10.545648",
     "exception": false,
     "start_time": "2020-09-12T08:09:10.481959",
     "status": "completed"
    },
    "tags": []
   },
   "outputs": [
    {
     "data": {
      "text/html": [
       "<div>\n",
       "<style scoped>\n",
       "    .dataframe tbody tr th:only-of-type {\n",
       "        vertical-align: middle;\n",
       "    }\n",
       "\n",
       "    .dataframe tbody tr th {\n",
       "        vertical-align: top;\n",
       "    }\n",
       "\n",
       "    .dataframe thead th {\n",
       "        text-align: right;\n",
       "    }\n",
       "</style>\n",
       "<table border=\"1\" class=\"dataframe\">\n",
       "  <thead>\n",
       "    <tr style=\"text-align: right;\">\n",
       "      <th></th>\n",
       "      <th>PassengerId</th>\n",
       "      <th>Survived</th>\n",
       "      <th>Pclass</th>\n",
       "      <th>Name</th>\n",
       "      <th>Sex</th>\n",
       "      <th>Age</th>\n",
       "      <th>SibSp</th>\n",
       "      <th>Parch</th>\n",
       "      <th>Ticket</th>\n",
       "      <th>Fare</th>\n",
       "      <th>Cabin</th>\n",
       "      <th>Embarked</th>\n",
       "    </tr>\n",
       "  </thead>\n",
       "  <tbody>\n",
       "    <tr>\n",
       "      <th>0</th>\n",
       "      <td>1</td>\n",
       "      <td>0</td>\n",
       "      <td>3</td>\n",
       "      <td>Braund, Mr. Owen Harris</td>\n",
       "      <td>male</td>\n",
       "      <td>22.0</td>\n",
       "      <td>1</td>\n",
       "      <td>0</td>\n",
       "      <td>A/5 21171</td>\n",
       "      <td>7.2500</td>\n",
       "      <td>NaN</td>\n",
       "      <td>S</td>\n",
       "    </tr>\n",
       "    <tr>\n",
       "      <th>1</th>\n",
       "      <td>2</td>\n",
       "      <td>1</td>\n",
       "      <td>1</td>\n",
       "      <td>Cumings, Mrs. John Bradley (Florence Briggs Th...</td>\n",
       "      <td>female</td>\n",
       "      <td>38.0</td>\n",
       "      <td>1</td>\n",
       "      <td>0</td>\n",
       "      <td>PC 17599</td>\n",
       "      <td>71.2833</td>\n",
       "      <td>C85</td>\n",
       "      <td>C</td>\n",
       "    </tr>\n",
       "    <tr>\n",
       "      <th>2</th>\n",
       "      <td>3</td>\n",
       "      <td>1</td>\n",
       "      <td>3</td>\n",
       "      <td>Heikkinen, Miss. Laina</td>\n",
       "      <td>female</td>\n",
       "      <td>26.0</td>\n",
       "      <td>0</td>\n",
       "      <td>0</td>\n",
       "      <td>STON/O2. 3101282</td>\n",
       "      <td>7.9250</td>\n",
       "      <td>NaN</td>\n",
       "      <td>S</td>\n",
       "    </tr>\n",
       "    <tr>\n",
       "      <th>3</th>\n",
       "      <td>4</td>\n",
       "      <td>1</td>\n",
       "      <td>1</td>\n",
       "      <td>Futrelle, Mrs. Jacques Heath (Lily May Peel)</td>\n",
       "      <td>female</td>\n",
       "      <td>35.0</td>\n",
       "      <td>1</td>\n",
       "      <td>0</td>\n",
       "      <td>113803</td>\n",
       "      <td>53.1000</td>\n",
       "      <td>C123</td>\n",
       "      <td>S</td>\n",
       "    </tr>\n",
       "    <tr>\n",
       "      <th>4</th>\n",
       "      <td>5</td>\n",
       "      <td>0</td>\n",
       "      <td>3</td>\n",
       "      <td>Allen, Mr. William Henry</td>\n",
       "      <td>male</td>\n",
       "      <td>35.0</td>\n",
       "      <td>0</td>\n",
       "      <td>0</td>\n",
       "      <td>373450</td>\n",
       "      <td>8.0500</td>\n",
       "      <td>NaN</td>\n",
       "      <td>S</td>\n",
       "    </tr>\n",
       "  </tbody>\n",
       "</table>\n",
       "</div>"
      ],
      "text/plain": [
       "   PassengerId  Survived  Pclass  \\\n",
       "0            1         0       3   \n",
       "1            2         1       1   \n",
       "2            3         1       3   \n",
       "3            4         1       1   \n",
       "4            5         0       3   \n",
       "\n",
       "                                                Name     Sex   Age  SibSp  \\\n",
       "0                            Braund, Mr. Owen Harris    male  22.0      1   \n",
       "1  Cumings, Mrs. John Bradley (Florence Briggs Th...  female  38.0      1   \n",
       "2                             Heikkinen, Miss. Laina  female  26.0      0   \n",
       "3       Futrelle, Mrs. Jacques Heath (Lily May Peel)  female  35.0      1   \n",
       "4                           Allen, Mr. William Henry    male  35.0      0   \n",
       "\n",
       "   Parch            Ticket     Fare Cabin Embarked  \n",
       "0      0         A/5 21171   7.2500   NaN        S  \n",
       "1      0          PC 17599  71.2833   C85        C  \n",
       "2      0  STON/O2. 3101282   7.9250   NaN        S  \n",
       "3      0            113803  53.1000  C123        S  \n",
       "4      0            373450   8.0500   NaN        S  "
      ]
     },
     "execution_count": 3,
     "metadata": {},
     "output_type": "execute_result"
    }
   ],
   "source": [
    "train.head(5)"
   ]
  },
  {
   "cell_type": "markdown",
   "metadata": {
    "papermill": {
     "duration": 0.035839,
     "end_time": "2020-09-12T08:09:10.618170",
     "exception": false,
     "start_time": "2020-09-12T08:09:10.582331",
     "status": "completed"
    },
    "tags": []
   },
   "source": [
    "## Cleaning the Dataframe"
   ]
  },
  {
   "cell_type": "markdown",
   "metadata": {
    "papermill": {
     "duration": 0.035932,
     "end_time": "2020-09-12T08:09:10.690424",
     "exception": false,
     "start_time": "2020-09-12T08:09:10.654492",
     "status": "completed"
    },
    "tags": []
   },
   "source": [
    "To ensure our data is trainable in our algorithm, we must take a look at any missing values. There are a combination of techniques to fix these missing values including:\n",
    "* Fill with either the median or mean. Using the median may be preferable as it is more robust to outliers. If you high extreme values on each end, then the mean may be affected severally. (i.e. mean income of the district that Bill Gates lives in.)\n",
    "* Drop the column if the majority of data is missing.\n",
    "* Fill with 0 if appropriate. Many times a missing value may signify \"no item\". This is why it is important to examine the columns with missing data closely."
   ]
  },
  {
   "cell_type": "code",
   "execution_count": 4,
   "metadata": {
    "execution": {
     "iopub.execute_input": "2020-09-12T08:09:10.771033Z",
     "iopub.status.busy": "2020-09-12T08:09:10.770285Z",
     "iopub.status.idle": "2020-09-12T08:09:10.774783Z",
     "shell.execute_reply": "2020-09-12T08:09:10.774238Z"
    },
    "papermill": {
     "duration": 0.048255,
     "end_time": "2020-09-12T08:09:10.774893",
     "exception": false,
     "start_time": "2020-09-12T08:09:10.726638",
     "status": "completed"
    },
    "tags": []
   },
   "outputs": [
    {
     "data": {
      "text/plain": [
       "PassengerId      0\n",
       "Survived         0\n",
       "Pclass           0\n",
       "Name             0\n",
       "Sex              0\n",
       "Age            177\n",
       "SibSp            0\n",
       "Parch            0\n",
       "Ticket           0\n",
       "Fare             0\n",
       "Cabin          687\n",
       "Embarked         2\n",
       "dtype: int64"
      ]
     },
     "execution_count": 4,
     "metadata": {},
     "output_type": "execute_result"
    }
   ],
   "source": [
    "train.isna().sum()"
   ]
  },
  {
   "cell_type": "markdown",
   "metadata": {
    "papermill": {
     "duration": 0.03609,
     "end_time": "2020-09-12T08:09:10.847446",
     "exception": false,
     "start_time": "2020-09-12T08:09:10.811356",
     "status": "completed"
    },
    "tags": []
   },
   "source": [
    "### Age "
   ]
  },
  {
   "cell_type": "code",
   "execution_count": 5,
   "metadata": {
    "execution": {
     "iopub.execute_input": "2020-09-12T08:09:10.927818Z",
     "iopub.status.busy": "2020-09-12T08:09:10.927069Z",
     "iopub.status.idle": "2020-09-12T08:09:10.929286Z",
     "shell.execute_reply": "2020-09-12T08:09:10.929802Z"
    },
    "papermill": {
     "duration": 0.045895,
     "end_time": "2020-09-12T08:09:10.929941",
     "exception": false,
     "start_time": "2020-09-12T08:09:10.884046",
     "status": "completed"
    },
    "tags": []
   },
   "outputs": [],
   "source": [
    "dfs = [train ,test]\n",
    "\n",
    "for df in dfs:\n",
    "    df['Age'].fillna(df['Age'].median(), inplace = True)"
   ]
  },
  {
   "cell_type": "markdown",
   "metadata": {
    "papermill": {
     "duration": 0.036321,
     "end_time": "2020-09-12T08:09:11.003015",
     "exception": false,
     "start_time": "2020-09-12T08:09:10.966694",
     "status": "completed"
    },
    "tags": []
   },
   "source": [
    "In the above code we iterate through each dataframe and fill the missing Age values with the median of each dataframe! Kinda cool right. If we check, we should see that Age now has 0 missing values."
   ]
  },
  {
   "cell_type": "code",
   "execution_count": 6,
   "metadata": {
    "execution": {
     "iopub.execute_input": "2020-09-12T08:09:11.083925Z",
     "iopub.status.busy": "2020-09-12T08:09:11.083229Z",
     "iopub.status.idle": "2020-09-12T08:09:11.086825Z",
     "shell.execute_reply": "2020-09-12T08:09:11.086318Z"
    },
    "papermill": {
     "duration": 0.047177,
     "end_time": "2020-09-12T08:09:11.086930",
     "exception": false,
     "start_time": "2020-09-12T08:09:11.039753",
     "status": "completed"
    },
    "tags": []
   },
   "outputs": [
    {
     "data": {
      "text/plain": [
       "PassengerId      0\n",
       "Survived         0\n",
       "Pclass           0\n",
       "Name             0\n",
       "Sex              0\n",
       "Age              0\n",
       "SibSp            0\n",
       "Parch            0\n",
       "Ticket           0\n",
       "Fare             0\n",
       "Cabin          687\n",
       "Embarked         2\n",
       "dtype: int64"
      ]
     },
     "execution_count": 6,
     "metadata": {},
     "output_type": "execute_result"
    }
   ],
   "source": [
    "train.isna().sum()"
   ]
  },
  {
   "cell_type": "markdown",
   "metadata": {
    "papermill": {
     "duration": 0.036884,
     "end_time": "2020-09-12T08:09:11.160953",
     "exception": false,
     "start_time": "2020-09-12T08:09:11.124069",
     "status": "completed"
    },
    "tags": []
   },
   "source": [
    "### Cabin"
   ]
  },
  {
   "cell_type": "code",
   "execution_count": 7,
   "metadata": {
    "execution": {
     "iopub.execute_input": "2020-09-12T08:09:11.244899Z",
     "iopub.status.busy": "2020-09-12T08:09:11.243978Z",
     "iopub.status.idle": "2020-09-12T08:09:11.248116Z",
     "shell.execute_reply": "2020-09-12T08:09:11.247587Z"
    },
    "papermill": {
     "duration": 0.049569,
     "end_time": "2020-09-12T08:09:11.248230",
     "exception": false,
     "start_time": "2020-09-12T08:09:11.198661",
     "status": "completed"
    },
    "tags": []
   },
   "outputs": [
    {
     "data": {
      "text/plain": [
       "B96 B98        4\n",
       "C23 C25 C27    4\n",
       "G6             4\n",
       "F33            3\n",
       "E101           3\n",
       "              ..\n",
       "C118           1\n",
       "D7             1\n",
       "D28            1\n",
       "D10 D12        1\n",
       "B4             1\n",
       "Name: Cabin, Length: 147, dtype: int64"
      ]
     },
     "execution_count": 7,
     "metadata": {},
     "output_type": "execute_result"
    }
   ],
   "source": [
    "train['Cabin'].value_counts()"
   ]
  },
  {
   "cell_type": "markdown",
   "metadata": {
    "papermill": {
     "duration": 0.037157,
     "end_time": "2020-09-12T08:09:11.323063",
     "exception": false,
     "start_time": "2020-09-12T08:09:11.285906",
     "status": "completed"
    },
    "tags": []
   },
   "source": [
    "I choose to fill the missing cabin columns with 0 instead of drop it becuase cabin may be associated with passenger class! We will have a look at a correlation matrix that includes categorical columns once we have used One Hot Encoding!"
   ]
  },
  {
   "cell_type": "code",
   "execution_count": 8,
   "metadata": {
    "execution": {
     "iopub.execute_input": "2020-09-12T08:09:11.404861Z",
     "iopub.status.busy": "2020-09-12T08:09:11.403912Z",
     "iopub.status.idle": "2020-09-12T08:09:11.406481Z",
     "shell.execute_reply": "2020-09-12T08:09:11.405858Z"
    },
    "papermill": {
     "duration": 0.046055,
     "end_time": "2020-09-12T08:09:11.406594",
     "exception": false,
     "start_time": "2020-09-12T08:09:11.360539",
     "status": "completed"
    },
    "tags": []
   },
   "outputs": [],
   "source": [
    "for df in dfs:\n",
    "    df['Cabin'].fillna(0, inplace = True)"
   ]
  },
  {
   "cell_type": "markdown",
   "metadata": {
    "papermill": {
     "duration": 0.037286,
     "end_time": "2020-09-12T08:09:11.482584",
     "exception": false,
     "start_time": "2020-09-12T08:09:11.445298",
     "status": "completed"
    },
    "tags": []
   },
   "source": [
    "The most important part of each value is what cabin letter they are in. We will aim to pull only the first character (letter) from each row."
   ]
  },
  {
   "cell_type": "code",
   "execution_count": 9,
   "metadata": {
    "execution": {
     "iopub.execute_input": "2020-09-12T08:09:11.563934Z",
     "iopub.status.busy": "2020-09-12T08:09:11.563149Z",
     "iopub.status.idle": "2020-09-12T08:09:11.566013Z",
     "shell.execute_reply": "2020-09-12T08:09:11.565505Z"
    },
    "papermill": {
     "duration": 0.045944,
     "end_time": "2020-09-12T08:09:11.566151",
     "exception": false,
     "start_time": "2020-09-12T08:09:11.520207",
     "status": "completed"
    },
    "tags": []
   },
   "outputs": [],
   "source": [
    "cabins = []\n",
    "for i in train['Cabin']:\n",
    "    cabins.append(str(i))"
   ]
  },
  {
   "cell_type": "code",
   "execution_count": 10,
   "metadata": {
    "execution": {
     "iopub.execute_input": "2020-09-12T08:09:11.647514Z",
     "iopub.status.busy": "2020-09-12T08:09:11.646580Z",
     "iopub.status.idle": "2020-09-12T08:09:11.649487Z",
     "shell.execute_reply": "2020-09-12T08:09:11.648857Z"
    },
    "papermill": {
     "duration": 0.045604,
     "end_time": "2020-09-12T08:09:11.649615",
     "exception": false,
     "start_time": "2020-09-12T08:09:11.604011",
     "status": "completed"
    },
    "tags": []
   },
   "outputs": [],
   "source": [
    "letters = []\n",
    "for i in cabins:\n",
    "    letter= i[0]\n",
    "    letters.append(letter)"
   ]
  },
  {
   "cell_type": "code",
   "execution_count": 11,
   "metadata": {
    "execution": {
     "iopub.execute_input": "2020-09-12T08:09:11.731016Z",
     "iopub.status.busy": "2020-09-12T08:09:11.730138Z",
     "iopub.status.idle": "2020-09-12T08:09:11.732494Z",
     "shell.execute_reply": "2020-09-12T08:09:11.732967Z"
    },
    "papermill": {
     "duration": 0.045468,
     "end_time": "2020-09-12T08:09:11.733130",
     "exception": false,
     "start_time": "2020-09-12T08:09:11.687662",
     "status": "completed"
    },
    "tags": []
   },
   "outputs": [],
   "source": [
    "train['Cabin'] = letters"
   ]
  },
  {
   "cell_type": "code",
   "execution_count": 12,
   "metadata": {
    "execution": {
     "iopub.execute_input": "2020-09-12T08:09:11.815846Z",
     "iopub.status.busy": "2020-09-12T08:09:11.815082Z",
     "iopub.status.idle": "2020-09-12T08:09:11.817957Z",
     "shell.execute_reply": "2020-09-12T08:09:11.817465Z"
    },
    "papermill": {
     "duration": 0.04643,
     "end_time": "2020-09-12T08:09:11.818073",
     "exception": false,
     "start_time": "2020-09-12T08:09:11.771643",
     "status": "completed"
    },
    "tags": []
   },
   "outputs": [],
   "source": [
    "cabins = []\n",
    "for i in test['Cabin']:\n",
    "    cabins.append(str(i))"
   ]
  },
  {
   "cell_type": "code",
   "execution_count": 13,
   "metadata": {
    "execution": {
     "iopub.execute_input": "2020-09-12T08:09:11.899769Z",
     "iopub.status.busy": "2020-09-12T08:09:11.899135Z",
     "iopub.status.idle": "2020-09-12T08:09:11.902359Z",
     "shell.execute_reply": "2020-09-12T08:09:11.901716Z"
    },
    "papermill": {
     "duration": 0.046187,
     "end_time": "2020-09-12T08:09:11.902472",
     "exception": false,
     "start_time": "2020-09-12T08:09:11.856285",
     "status": "completed"
    },
    "tags": []
   },
   "outputs": [],
   "source": [
    "letters = []\n",
    "for i in cabins:\n",
    "    letter = i[0]\n",
    "    letters.append(letter)"
   ]
  },
  {
   "cell_type": "code",
   "execution_count": 14,
   "metadata": {
    "execution": {
     "iopub.execute_input": "2020-09-12T08:09:11.984274Z",
     "iopub.status.busy": "2020-09-12T08:09:11.983616Z",
     "iopub.status.idle": "2020-09-12T08:09:11.986203Z",
     "shell.execute_reply": "2020-09-12T08:09:11.985583Z"
    },
    "papermill": {
     "duration": 0.045534,
     "end_time": "2020-09-12T08:09:11.986314",
     "exception": false,
     "start_time": "2020-09-12T08:09:11.940780",
     "status": "completed"
    },
    "tags": []
   },
   "outputs": [],
   "source": [
    "test['Cabin'] = letters"
   ]
  },
  {
   "cell_type": "code",
   "execution_count": 15,
   "metadata": {
    "execution": {
     "iopub.execute_input": "2020-09-12T08:09:12.075344Z",
     "iopub.status.busy": "2020-09-12T08:09:12.074573Z",
     "iopub.status.idle": "2020-09-12T08:09:12.078833Z",
     "shell.execute_reply": "2020-09-12T08:09:12.078274Z"
    },
    "papermill": {
     "duration": 0.054334,
     "end_time": "2020-09-12T08:09:12.078949",
     "exception": false,
     "start_time": "2020-09-12T08:09:12.024615",
     "status": "completed"
    },
    "tags": []
   },
   "outputs": [
    {
     "data": {
      "text/plain": [
       "0    0\n",
       "1    C\n",
       "2    0\n",
       "3    C\n",
       "4    0\n",
       "Name: Cabin, dtype: object"
      ]
     },
     "execution_count": 15,
     "metadata": {},
     "output_type": "execute_result"
    }
   ],
   "source": [
    "train['Cabin'].head()"
   ]
  },
  {
   "cell_type": "markdown",
   "metadata": {
    "papermill": {
     "duration": 0.038226,
     "end_time": "2020-09-12T08:09:12.155991",
     "exception": false,
     "start_time": "2020-09-12T08:09:12.117765",
     "status": "completed"
    },
    "tags": []
   },
   "source": [
    "It worked! We have grabbed the first letter from each row."
   ]
  },
  {
   "cell_type": "markdown",
   "metadata": {
    "papermill": {
     "duration": 0.039705,
     "end_time": "2020-09-12T08:09:12.234717",
     "exception": false,
     "start_time": "2020-09-12T08:09:12.195012",
     "status": "completed"
    },
    "tags": []
   },
   "source": [
    "### Embarked"
   ]
  },
  {
   "cell_type": "code",
   "execution_count": 16,
   "metadata": {
    "execution": {
     "iopub.execute_input": "2020-09-12T08:09:12.319808Z",
     "iopub.status.busy": "2020-09-12T08:09:12.319167Z",
     "iopub.status.idle": "2020-09-12T08:09:12.322934Z",
     "shell.execute_reply": "2020-09-12T08:09:12.323400Z"
    },
    "papermill": {
     "duration": 0.049664,
     "end_time": "2020-09-12T08:09:12.323545",
     "exception": false,
     "start_time": "2020-09-12T08:09:12.273881",
     "status": "completed"
    },
    "tags": []
   },
   "outputs": [
    {
     "data": {
      "text/plain": [
       "S    644\n",
       "C    168\n",
       "Q     77\n",
       "Name: Embarked, dtype: int64"
      ]
     },
     "execution_count": 16,
     "metadata": {},
     "output_type": "execute_result"
    }
   ],
   "source": [
    "train['Embarked'].value_counts()"
   ]
  },
  {
   "cell_type": "markdown",
   "metadata": {
    "papermill": {
     "duration": 0.038679,
     "end_time": "2020-09-12T08:09:12.401173",
     "exception": false,
     "start_time": "2020-09-12T08:09:12.362494",
     "status": "completed"
    },
    "tags": []
   },
   "source": [
    "We will fill with the mode of the data column. This being 'S' as it will alter out data the least. "
   ]
  },
  {
   "cell_type": "code",
   "execution_count": 17,
   "metadata": {
    "execution": {
     "iopub.execute_input": "2020-09-12T08:09:12.485437Z",
     "iopub.status.busy": "2020-09-12T08:09:12.484805Z",
     "iopub.status.idle": "2020-09-12T08:09:12.487921Z",
     "shell.execute_reply": "2020-09-12T08:09:12.487336Z"
    },
    "papermill": {
     "duration": 0.047371,
     "end_time": "2020-09-12T08:09:12.488033",
     "exception": false,
     "start_time": "2020-09-12T08:09:12.440662",
     "status": "completed"
    },
    "tags": []
   },
   "outputs": [],
   "source": [
    "for df in dfs:\n",
    "    df['Embarked'].fillna('S')"
   ]
  },
  {
   "cell_type": "markdown",
   "metadata": {
    "papermill": {
     "duration": 0.039307,
     "end_time": "2020-09-12T08:09:12.566581",
     "exception": false,
     "start_time": "2020-09-12T08:09:12.527274",
     "status": "completed"
    },
    "tags": []
   },
   "source": [
    "### Exploratory Analysis"
   ]
  },
  {
   "cell_type": "code",
   "execution_count": 18,
   "metadata": {
    "execution": {
     "iopub.execute_input": "2020-09-12T08:09:12.651887Z",
     "iopub.status.busy": "2020-09-12T08:09:12.651231Z",
     "iopub.status.idle": "2020-09-12T08:09:14.037485Z",
     "shell.execute_reply": "2020-09-12T08:09:14.036848Z"
    },
    "papermill": {
     "duration": 1.432127,
     "end_time": "2020-09-12T08:09:14.037609",
     "exception": false,
     "start_time": "2020-09-12T08:09:12.605482",
     "status": "completed"
    },
    "tags": []
   },
   "outputs": [
    {
     "data": {
      "text/plain": [
       "<matplotlib.axes._subplots.AxesSubplot at 0x7fd1ee27b690>"
      ]
     },
     "execution_count": 18,
     "metadata": {},
     "output_type": "execute_result"
    },
    {
     "data": {
      "image/png": "[encoded data removed]",
      "text/plain": [
       "<Figure size 720x576 with 2 Axes>"
      ]
     },
     "metadata": {
      "needs_background": "light"
     },
     "output_type": "display_data"
    }
   ],
   "source": [
    "import seaborn as sns\n",
    "import matplotlib.pyplot as plt\n",
    "#seaborn & matplotlib are excellent python libraries to perform clean visualizations.\n",
    "#I highly suggest you get familiar with them!\n",
    "\n",
    "#correlation matrix \n",
    "corr_matrix = train.corr()\n",
    "fig, ax = plt.subplots(figsize = (10,8))\n",
    "sns.heatmap(corr_matrix, annot = True, fmt='.2g', vmin = -1,\n",
    "            vmax = 1, center = 0, cmap = 'coolwarm')"
   ]
  },
  {
   "cell_type": "code",
   "execution_count": 19,
   "metadata": {
    "execution": {
     "iopub.execute_input": "2020-09-12T08:09:14.131020Z",
     "iopub.status.busy": "2020-09-12T08:09:14.130154Z",
     "iopub.status.idle": "2020-09-12T08:09:14.134366Z",
     "shell.execute_reply": "2020-09-12T08:09:14.133863Z"
    },
    "papermill": {
     "duration": 0.052705,
     "end_time": "2020-09-12T08:09:14.134478",
     "exception": false,
     "start_time": "2020-09-12T08:09:14.081773",
     "status": "completed"
    },
    "tags": []
   },
   "outputs": [
    {
     "data": {
      "text/plain": [
       "PassengerId      int64\n",
       "Survived         int64\n",
       "Pclass           int64\n",
       "Name            object\n",
       "Sex             object\n",
       "Age            float64\n",
       "SibSp            int64\n",
       "Parch            int64\n",
       "Ticket          object\n",
       "Fare           float64\n",
       "Cabin           object\n",
       "Embarked        object\n",
       "dtype: object"
      ]
     },
     "execution_count": 19,
     "metadata": {},
     "output_type": "execute_result"
    }
   ],
   "source": [
    "train.dtypes"
   ]
  },
  {
   "cell_type": "code",
   "execution_count": 20,
   "metadata": {
    "execution": {
     "iopub.execute_input": "2020-09-12T08:09:14.226017Z",
     "iopub.status.busy": "2020-09-12T08:09:14.225138Z",
     "iopub.status.idle": "2020-09-12T08:09:14.416806Z",
     "shell.execute_reply": "2020-09-12T08:09:14.416297Z"
    },
    "papermill": {
     "duration": 0.239899,
     "end_time": "2020-09-12T08:09:14.416911",
     "exception": false,
     "start_time": "2020-09-12T08:09:14.177012",
     "status": "completed"
    },
    "tags": []
   },
   "outputs": [
    {
     "data": {
      "text/plain": [
       "<matplotlib.axes._subplots.AxesSubplot at 0x7fd1eddf9b50>"
      ]
     },
     "execution_count": 20,
     "metadata": {},
     "output_type": "execute_result"
    },
    {
     "data": {
      "image/png": "[encoded data removed]",
      "text/plain": [
       "<Figure size 720x360 with 1 Axes>"
      ]
     },
     "metadata": {
      "needs_background": "light"
     },
     "output_type": "display_data"
    }
   ],
   "source": [
    "#boxplot\n",
    "numeric_cols = ['Survived', 'Pclass', 'Age', 'SibSp', 'Parch', 'Fare']\n",
    "fig, ax = plt.subplots(figsize = (10,5))\n",
    "sns.boxplot(data = train[numeric_cols], orient = 'h', palette = 'Set2')"
   ]
  },
  {
   "cell_type": "markdown",
   "metadata": {
    "papermill": {
     "duration": 0.043093,
     "end_time": "2020-09-12T08:09:14.503744",
     "exception": false,
     "start_time": "2020-09-12T08:09:14.460651",
     "status": "completed"
    },
    "tags": []
   },
   "source": [
    "It's a good thing that we filled fare with the median value as there is an outlier."
   ]
  },
  {
   "cell_type": "code",
   "execution_count": 21,
   "metadata": {
    "execution": {
     "iopub.execute_input": "2020-09-12T08:09:14.597352Z",
     "iopub.status.busy": "2020-09-12T08:09:14.596623Z",
     "iopub.status.idle": "2020-09-12T08:09:16.707435Z",
     "shell.execute_reply": "2020-09-12T08:09:16.706794Z"
    },
    "papermill": {
     "duration": 2.159852,
     "end_time": "2020-09-12T08:09:16.707547",
     "exception": false,
     "start_time": "2020-09-12T08:09:14.547695",
     "status": "completed"
    },
    "tags": []
   },
   "outputs": [
    {
     "data": {
      "text/plain": [
       "array([[<matplotlib.axes._subplots.AxesSubplot object at 0x7fd1ede00250>,\n",
       "        <matplotlib.axes._subplots.AxesSubplot object at 0x7fd1edf70410>,\n",
       "        <matplotlib.axes._subplots.AxesSubplot object at 0x7fd1edf28a90>,\n",
       "        <matplotlib.axes._subplots.AxesSubplot object at 0x7fd1eddca150>,\n",
       "        <matplotlib.axes._subplots.AxesSubplot object at 0x7fd1edd7f7d0>,\n",
       "        <matplotlib.axes._subplots.AxesSubplot object at 0x7fd1edd34e50>],\n",
       "       [<matplotlib.axes._subplots.AxesSubplot object at 0x7fd1edcf9510>,\n",
       "        <matplotlib.axes._subplots.AxesSubplot object at 0x7fd1edcadb90>,\n",
       "        <matplotlib.axes._subplots.AxesSubplot object at 0x7fd1edcb7a50>,\n",
       "        <matplotlib.axes._subplots.AxesSubplot object at 0x7fd1edc7a250>,\n",
       "        <matplotlib.axes._subplots.AxesSubplot object at 0x7fd1ee29b510>,\n",
       "        <matplotlib.axes._subplots.AxesSubplot object at 0x7fd1ede5fc10>],\n",
       "       [<matplotlib.axes._subplots.AxesSubplot object at 0x7fd1edd11090>,\n",
       "        <matplotlib.axes._subplots.AxesSubplot object at 0x7fd1edb6e810>,\n",
       "        <matplotlib.axes._subplots.AxesSubplot object at 0x7fd1edb23e90>,\n",
       "        <matplotlib.axes._subplots.AxesSubplot object at 0x7fd1edae8550>,\n",
       "        <matplotlib.axes._subplots.AxesSubplot object at 0x7fd1edb1bbd0>,\n",
       "        <matplotlib.axes._subplots.AxesSubplot object at 0x7fd1edadd290>],\n",
       "       [<matplotlib.axes._subplots.AxesSubplot object at 0x7fd1eda96910>,\n",
       "        <matplotlib.axes._subplots.AxesSubplot object at 0x7fd1eda4bf90>,\n",
       "        <matplotlib.axes._subplots.AxesSubplot object at 0x7fd1eda0d650>,\n",
       "        <matplotlib.axes._subplots.AxesSubplot object at 0x7fd1ed9c3cd0>,\n",
       "        <matplotlib.axes._subplots.AxesSubplot object at 0x7fd1ed984390>,\n",
       "        <matplotlib.axes._subplots.AxesSubplot object at 0x7fd1ed93ba10>],\n",
       "       [<matplotlib.axes._subplots.AxesSubplot object at 0x7fd1ed8fcf50>,\n",
       "        <matplotlib.axes._subplots.AxesSubplot object at 0x7fd1ed8b6750>,\n",
       "        <matplotlib.axes._subplots.AxesSubplot object at 0x7fd1ed86bdd0>,\n",
       "        <matplotlib.axes._subplots.AxesSubplot object at 0x7fd1ed82d490>,\n",
       "        <matplotlib.axes._subplots.AxesSubplot object at 0x7fd1ed7e3b10>,\n",
       "        <matplotlib.axes._subplots.AxesSubplot object at 0x7fd1ed7a51d0>],\n",
       "       [<matplotlib.axes._subplots.AxesSubplot object at 0x7fd1ed7dc850>,\n",
       "        <matplotlib.axes._subplots.AxesSubplot object at 0x7fd1ed792ed0>,\n",
       "        <matplotlib.axes._subplots.AxesSubplot object at 0x7fd1ed754590>,\n",
       "        <matplotlib.axes._subplots.AxesSubplot object at 0x7fd1ed70ac10>,\n",
       "        <matplotlib.axes._subplots.AxesSubplot object at 0x7fd1ed6cb2d0>,\n",
       "        <matplotlib.axes._subplots.AxesSubplot object at 0x7fd1ed682950>]],\n",
       "      dtype=object)"
      ]
     },
     "execution_count": 21,
     "metadata": {},
     "output_type": "execute_result"
    },
    {
     "data": {
      "image/png": "[encoded data removed]",
      "text/plain": [
       "<Figure size 864x576 with 36 Axes>"
      ]
     },
     "metadata": {
      "needs_background": "light"
     },
     "output_type": "display_data"
    }
   ],
   "source": [
    "from pandas.plotting import scatter_matrix\n",
    "scatter_matrix(train[numeric_cols], figsize= (12,8))"
   ]
  },
  {
   "cell_type": "code",
   "execution_count": 22,
   "metadata": {
    "execution": {
     "iopub.execute_input": "2020-09-12T08:09:16.811605Z",
     "iopub.status.busy": "2020-09-12T08:09:16.805961Z",
     "iopub.status.idle": "2020-09-12T08:09:17.968761Z",
     "shell.execute_reply": "2020-09-12T08:09:17.968050Z"
    },
    "papermill": {
     "duration": 1.215072,
     "end_time": "2020-09-12T08:09:17.968880",
     "exception": false,
     "start_time": "2020-09-12T08:09:16.753808",
     "status": "completed"
    },
    "tags": []
   },
   "outputs": [
    {
     "data": {
      "text/plain": [
       "array([[<matplotlib.axes._subplots.AxesSubplot object at 0x7fd1ed106150>,\n",
       "        <matplotlib.axes._subplots.AxesSubplot object at 0x7fd1ed329cd0>,\n",
       "        <matplotlib.axes._subplots.AxesSubplot object at 0x7fd1ed342150>],\n",
       "       [<matplotlib.axes._subplots.AxesSubplot object at 0x7fd1ed2f26d0>,\n",
       "        <matplotlib.axes._subplots.AxesSubplot object at 0x7fd1ed2a6c50>,\n",
       "        <matplotlib.axes._subplots.AxesSubplot object at 0x7fd1ed267210>],\n",
       "       [<matplotlib.axes._subplots.AxesSubplot object at 0x7fd1ed2a0790>,\n",
       "        <matplotlib.axes._subplots.AxesSubplot object at 0x7fd1ed254d10>,\n",
       "        <matplotlib.axes._subplots.AxesSubplot object at 0x7fd1ed25ebd0>]],\n",
       "      dtype=object)"
      ]
     },
     "execution_count": 22,
     "metadata": {},
     "output_type": "execute_result"
    },
    {
     "data": {
      "image/png": "[encoded data removed]",
      "text/plain": [
       "<Figure size 864x576 with 9 Axes>"
      ]
     },
     "metadata": {
      "needs_background": "light"
     },
     "output_type": "display_data"
    }
   ],
   "source": [
    "train.hist(bins = 20, figsize = (12,8))"
   ]
  },
  {
   "cell_type": "code",
   "execution_count": 23,
   "metadata": {
    "execution": {
     "iopub.execute_input": "2020-09-12T08:09:18.113840Z",
     "iopub.status.busy": "2020-09-12T08:09:18.113220Z",
     "iopub.status.idle": "2020-09-12T08:09:18.250699Z",
     "shell.execute_reply": "2020-09-12T08:09:18.250123Z"
    },
    "papermill": {
     "duration": 0.189862,
     "end_time": "2020-09-12T08:09:18.250823",
     "exception": false,
     "start_time": "2020-09-12T08:09:18.060961",
     "status": "completed"
    },
    "tags": []
   },
   "outputs": [
    {
     "data": {
      "text/plain": [
       "Text(0.5, 1.0, 'Count Survived for each Class')"
      ]
     },
     "execution_count": 23,
     "metadata": {},
     "output_type": "execute_result"
    },
    {
     "data": {
      "image/png": "[encoded data removed]",
      "text/plain": [
       "<Figure size 432x288 with 1 Axes>"
      ]
     },
     "metadata": {
      "needs_background": "light"
     },
     "output_type": "display_data"
    }
   ],
   "source": [
    "sns.countplot(train[train['Survived'] == 1]['Pclass']).set_title('Count Survived for each Class')"
   ]
  },
  {
   "cell_type": "code",
   "execution_count": 24,
   "metadata": {
    "execution": {
     "iopub.execute_input": "2020-09-12T08:09:18.355992Z",
     "iopub.status.busy": "2020-09-12T08:09:18.355326Z",
     "iopub.status.idle": "2020-09-12T08:09:18.359521Z",
     "shell.execute_reply": "2020-09-12T08:09:18.358964Z"
    },
    "papermill": {
     "duration": 0.060497,
     "end_time": "2020-09-12T08:09:18.359625",
     "exception": false,
     "start_time": "2020-09-12T08:09:18.299128",
     "status": "completed"
    },
    "tags": []
   },
   "outputs": [
    {
     "data": {
      "text/plain": [
       "(216, 184, 491)"
      ]
     },
     "execution_count": 24,
     "metadata": {},
     "output_type": "execute_result"
    }
   ],
   "source": [
    "len(train[train['Pclass'] == 1]), len(train[train['Pclass'] == 2]), len(train[train['Pclass'] == 3])"
   ]
  },
  {
   "cell_type": "code",
   "execution_count": 25,
   "metadata": {
    "execution": {
     "iopub.execute_input": "2020-09-12T08:09:18.467476Z",
     "iopub.status.busy": "2020-09-12T08:09:18.465724Z",
     "iopub.status.idle": "2020-09-12T08:09:18.471084Z",
     "shell.execute_reply": "2020-09-12T08:09:18.471692Z"
    },
    "papermill": {
     "duration": 0.063867,
     "end_time": "2020-09-12T08:09:18.471836",
     "exception": false,
     "start_time": "2020-09-12T08:09:18.407969",
     "status": "completed"
    },
    "tags": []
   },
   "outputs": [
    {
     "data": {
      "text/plain": [
       "(136, 87, 119)"
      ]
     },
     "execution_count": 25,
     "metadata": {},
     "output_type": "execute_result"
    }
   ],
   "source": [
    "train[train['Pclass'] == 1]['Survived'].sum(), train[train['Pclass'] == 2]['Survived'].sum(), train[train['Pclass'] == 3]['Survived'].sum()   "
   ]
  },
  {
   "cell_type": "code",
   "execution_count": 26,
   "metadata": {
    "execution": {
     "iopub.execute_input": "2020-09-12T08:09:18.574267Z",
     "iopub.status.busy": "2020-09-12T08:09:18.573620Z",
     "iopub.status.idle": "2020-09-12T08:09:18.576574Z",
     "shell.execute_reply": "2020-09-12T08:09:18.575973Z"
    },
    "papermill": {
     "duration": 0.056075,
     "end_time": "2020-09-12T08:09:18.576677",
     "exception": false,
     "start_time": "2020-09-12T08:09:18.520602",
     "status": "completed"
    },
    "tags": []
   },
   "outputs": [],
   "source": [
    "percentages = []\n",
    "first = 136 / 216\n",
    "second = 87/ 184\n",
    "third = 119/491\n",
    "percentages.append(first)\n",
    "percentages.append(second)\n",
    "percentages.append(third)"
   ]
  },
  {
   "cell_type": "code",
   "execution_count": 27,
   "metadata": {
    "execution": {
     "iopub.execute_input": "2020-09-12T08:09:18.683135Z",
     "iopub.status.busy": "2020-09-12T08:09:18.682457Z",
     "iopub.status.idle": "2020-09-12T08:09:18.688548Z",
     "shell.execute_reply": "2020-09-12T08:09:18.687972Z"
    },
    "papermill": {
     "duration": 0.063594,
     "end_time": "2020-09-12T08:09:18.688666",
     "exception": false,
     "start_time": "2020-09-12T08:09:18.625072",
     "status": "completed"
    },
    "tags": []
   },
   "outputs": [],
   "source": [
    "percents = pd.DataFrame(percentages)\n",
    "percents.index+=1"
   ]
  },
  {
   "cell_type": "code",
   "execution_count": 28,
   "metadata": {
    "execution": {
     "iopub.execute_input": "2020-09-12T08:09:18.803211Z",
     "iopub.status.busy": "2020-09-12T08:09:18.802526Z",
     "iopub.status.idle": "2020-09-12T08:09:18.909394Z",
     "shell.execute_reply": "2020-09-12T08:09:18.909911Z"
    },
    "papermill": {
     "duration": 0.171798,
     "end_time": "2020-09-12T08:09:18.910048",
     "exception": false,
     "start_time": "2020-09-12T08:09:18.738250",
     "status": "completed"
    },
    "tags": []
   },
   "outputs": [
    {
     "data": {
      "text/plain": [
       "Text(0.5, 1.0, 'Percent Survived for Passenger Class')"
      ]
     },
     "execution_count": 28,
     "metadata": {},
     "output_type": "execute_result"
    },
    {
     "data": {
      "image/png": "[encoded data removed]",
      "text/plain": [
       "<Figure size 432x288 with 1 Axes>"
      ]
     },
     "metadata": {
      "needs_background": "light"
     },
     "output_type": "display_data"
    }
   ],
   "source": [
    "percents['PClass'] = ['1', '2', '3']\n",
    "cols= ['Percent', 'PClass']\n",
    "percents.columns = [i for i in cols]\n",
    "sns.barplot(y = 'Percent', x = 'PClass', data = percents).set_title('Percent Survived for Passenger Class')"
   ]
  },
  {
   "cell_type": "markdown",
   "metadata": {
    "papermill": {
     "duration": 0.049631,
     "end_time": "2020-09-12T08:09:19.009188",
     "exception": false,
     "start_time": "2020-09-12T08:09:18.959557",
     "status": "completed"
    },
    "tags": []
   },
   "source": [
    "The majority of first class passengers survived with about slighly lower than 50% of 2nd class passengers surviving. The majority of third class passengers did not survive. Therefore, we can see that Passenger Class impacted your survival chance aboard the Titanic. "
   ]
  },
  {
   "cell_type": "markdown",
   "metadata": {
    "papermill": {
     "duration": 0.048858,
     "end_time": "2020-09-12T08:09:19.107589",
     "exception": false,
     "start_time": "2020-09-12T08:09:19.058731",
     "status": "completed"
    },
    "tags": []
   },
   "source": [
    "### Feature Engineering"
   ]
  },
  {
   "cell_type": "code",
   "execution_count": 29,
   "metadata": {
    "execution": {
     "iopub.execute_input": "2020-09-12T08:09:19.212117Z",
     "iopub.status.busy": "2020-09-12T08:09:19.211409Z",
     "iopub.status.idle": "2020-09-12T08:09:19.238141Z",
     "shell.execute_reply": "2020-09-12T08:09:19.237553Z"
    },
    "papermill": {
     "duration": 0.081391,
     "end_time": "2020-09-12T08:09:19.238254",
     "exception": false,
     "start_time": "2020-09-12T08:09:19.156863",
     "status": "completed"
    },
    "tags": []
   },
   "outputs": [],
   "source": [
    "train['Family'] = train.apply(lambda x: x['SibSp'] + x['Parch'], axis = 1)\n",
    "test['Family'] = test.apply(lambda x: x['SibSp'] + x['Parch'], axis = 1)"
   ]
  },
  {
   "cell_type": "code",
   "execution_count": 30,
   "metadata": {
    "execution": {
     "iopub.execute_input": "2020-09-12T08:09:19.346220Z",
     "iopub.status.busy": "2020-09-12T08:09:19.345554Z",
     "iopub.status.idle": "2020-09-12T08:09:19.348907Z",
     "shell.execute_reply": "2020-09-12T08:09:19.348418Z"
    },
    "papermill": {
     "duration": 0.06113,
     "end_time": "2020-09-12T08:09:19.349029",
     "exception": false,
     "start_time": "2020-09-12T08:09:19.287899",
     "status": "completed"
    },
    "tags": []
   },
   "outputs": [],
   "source": [
    "#dropping columns from the dataframe \n",
    "train.drop(['SibSp', 'Parch', 'Name', 'Ticket'], axis = 1, inplace = True)\n",
    "test.drop(['SibSp', 'Parch', 'Name', 'Ticket'], axis = 1, inplace = True)"
   ]
  },
  {
   "cell_type": "markdown",
   "metadata": {
    "papermill": {
     "duration": 0.049975,
     "end_time": "2020-09-12T08:09:19.449043",
     "exception": false,
     "start_time": "2020-09-12T08:09:19.399068",
     "status": "completed"
    },
    "tags": []
   },
   "source": [
    "Keep in mind that the model accuracy could be improved by finding titles for each of the passengers. For simplicity of this tutorial, we won't be covering that but if enough people request it I will make the change in following versions. "
   ]
  },
  {
   "cell_type": "code",
   "execution_count": 31,
   "metadata": {
    "execution": {
     "iopub.execute_input": "2020-09-12T08:09:19.561575Z",
     "iopub.status.busy": "2020-09-12T08:09:19.560900Z",
     "iopub.status.idle": "2020-09-12T08:09:19.565445Z",
     "shell.execute_reply": "2020-09-12T08:09:19.564925Z"
    },
    "papermill": {
     "duration": 0.067069,
     "end_time": "2020-09-12T08:09:19.565565",
     "exception": false,
     "start_time": "2020-09-12T08:09:19.498496",
     "status": "completed"
    },
    "tags": []
   },
   "outputs": [
    {
     "data": {
      "text/html": [
       "<div>\n",
       "<style scoped>\n",
       "    .dataframe tbody tr th:only-of-type {\n",
       "        vertical-align: middle;\n",
       "    }\n",
       "\n",
       "    .dataframe tbody tr th {\n",
       "        vertical-align: top;\n",
       "    }\n",
       "\n",
       "    .dataframe thead th {\n",
       "        text-align: right;\n",
       "    }\n",
       "</style>\n",
       "<table border=\"1\" class=\"dataframe\">\n",
       "  <thead>\n",
       "    <tr style=\"text-align: right;\">\n",
       "      <th></th>\n",
       "      <th>PassengerId</th>\n",
       "      <th>Survived</th>\n",
       "      <th>Pclass</th>\n",
       "      <th>Sex</th>\n",
       "      <th>Age</th>\n",
       "      <th>Fare</th>\n",
       "      <th>Cabin</th>\n",
       "      <th>Embarked</th>\n",
       "      <th>Family</th>\n",
       "    </tr>\n",
       "  </thead>\n",
       "  <tbody>\n",
       "    <tr>\n",
       "      <th>0</th>\n",
       "      <td>1</td>\n",
       "      <td>0</td>\n",
       "      <td>3</td>\n",
       "      <td>male</td>\n",
       "      <td>22.0</td>\n",
       "      <td>7.2500</td>\n",
       "      <td>0</td>\n",
       "      <td>S</td>\n",
       "      <td>1</td>\n",
       "    </tr>\n",
       "    <tr>\n",
       "      <th>1</th>\n",
       "      <td>2</td>\n",
       "      <td>1</td>\n",
       "      <td>1</td>\n",
       "      <td>female</td>\n",
       "      <td>38.0</td>\n",
       "      <td>71.2833</td>\n",
       "      <td>C</td>\n",
       "      <td>C</td>\n",
       "      <td>1</td>\n",
       "    </tr>\n",
       "    <tr>\n",
       "      <th>2</th>\n",
       "      <td>3</td>\n",
       "      <td>1</td>\n",
       "      <td>3</td>\n",
       "      <td>female</td>\n",
       "      <td>26.0</td>\n",
       "      <td>7.9250</td>\n",
       "      <td>0</td>\n",
       "      <td>S</td>\n",
       "      <td>0</td>\n",
       "    </tr>\n",
       "    <tr>\n",
       "      <th>3</th>\n",
       "      <td>4</td>\n",
       "      <td>1</td>\n",
       "      <td>1</td>\n",
       "      <td>female</td>\n",
       "      <td>35.0</td>\n",
       "      <td>53.1000</td>\n",
       "      <td>C</td>\n",
       "      <td>S</td>\n",
       "      <td>1</td>\n",
       "    </tr>\n",
       "    <tr>\n",
       "      <th>4</th>\n",
       "      <td>5</td>\n",
       "      <td>0</td>\n",
       "      <td>3</td>\n",
       "      <td>male</td>\n",
       "      <td>35.0</td>\n",
       "      <td>8.0500</td>\n",
       "      <td>0</td>\n",
       "      <td>S</td>\n",
       "      <td>0</td>\n",
       "    </tr>\n",
       "  </tbody>\n",
       "</table>\n",
       "</div>"
      ],
      "text/plain": [
       "   PassengerId  Survived  Pclass     Sex   Age     Fare Cabin Embarked  Family\n",
       "0            1         0       3    male  22.0   7.2500     0        S       1\n",
       "1            2         1       1  female  38.0  71.2833     C        C       1\n",
       "2            3         1       3  female  26.0   7.9250     0        S       0\n",
       "3            4         1       1  female  35.0  53.1000     C        S       1\n",
       "4            5         0       3    male  35.0   8.0500     0        S       0"
      ]
     },
     "execution_count": 31,
     "metadata": {},
     "output_type": "execute_result"
    }
   ],
   "source": [
    "train.head(5)"
   ]
  },
  {
   "cell_type": "markdown",
   "metadata": {
    "papermill": {
     "duration": 0.049743,
     "end_time": "2020-09-12T08:09:19.665392",
     "exception": false,
     "start_time": "2020-09-12T08:09:19.615649",
     "status": "completed"
    },
    "tags": []
   },
   "source": [
    "### Check Test DataFrame For Any Missing Values Too!"
   ]
  },
  {
   "cell_type": "code",
   "execution_count": 32,
   "metadata": {
    "execution": {
     "iopub.execute_input": "2020-09-12T08:09:19.773401Z",
     "iopub.status.busy": "2020-09-12T08:09:19.772744Z",
     "iopub.status.idle": "2020-09-12T08:09:19.777008Z",
     "shell.execute_reply": "2020-09-12T08:09:19.776535Z"
    },
    "papermill": {
     "duration": 0.061798,
     "end_time": "2020-09-12T08:09:19.777137",
     "exception": false,
     "start_time": "2020-09-12T08:09:19.715339",
     "status": "completed"
    },
    "tags": []
   },
   "outputs": [
    {
     "data": {
      "text/plain": [
       "PassengerId    0\n",
       "Pclass         0\n",
       "Sex            0\n",
       "Age            0\n",
       "Fare           1\n",
       "Cabin          0\n",
       "Embarked       0\n",
       "Family         0\n",
       "dtype: int64"
      ]
     },
     "execution_count": 32,
     "metadata": {},
     "output_type": "execute_result"
    }
   ],
   "source": [
    "test.isna().sum()"
   ]
  },
  {
   "cell_type": "code",
   "execution_count": 33,
   "metadata": {
    "execution": {
     "iopub.execute_input": "2020-09-12T08:09:19.884380Z",
     "iopub.status.busy": "2020-09-12T08:09:19.883465Z",
     "iopub.status.idle": "2020-09-12T08:09:19.886408Z",
     "shell.execute_reply": "2020-09-12T08:09:19.885771Z"
    },
    "papermill": {
     "duration": 0.058574,
     "end_time": "2020-09-12T08:09:19.886552",
     "exception": false,
     "start_time": "2020-09-12T08:09:19.827978",
     "status": "completed"
    },
    "tags": []
   },
   "outputs": [],
   "source": [
    "test['Fare'].fillna(test['Fare'].median(), inplace = True)"
   ]
  },
  {
   "cell_type": "markdown",
   "metadata": {
    "papermill": {
     "duration": 0.0711,
     "end_time": "2020-09-12T08:09:20.008377",
     "exception": false,
     "start_time": "2020-09-12T08:09:19.937277",
     "status": "completed"
    },
    "tags": []
   },
   "source": [
    "Now all of our missing data is filled in so we can go ahead with our model!"
   ]
  },
  {
   "cell_type": "markdown",
   "metadata": {
    "papermill": {
     "duration": 0.058444,
     "end_time": "2020-09-12T08:09:20.145008",
     "exception": false,
     "start_time": "2020-09-12T08:09:20.086564",
     "status": "completed"
    },
    "tags": []
   },
   "source": [
    "### One Hot Encoding"
   ]
  },
  {
   "cell_type": "markdown",
   "metadata": {
    "papermill": {
     "duration": 0.052522,
     "end_time": "2020-09-12T08:09:20.254501",
     "exception": false,
     "start_time": "2020-09-12T08:09:20.201979",
     "status": "completed"
    },
    "tags": []
   },
   "source": [
    "One Hot Encoding, one of the most useful techniques that a data scientist can know. This techniques label encodes categorical columns resulting in a 1 if the value is true, with all associated values in that row taking value 0. Take for example our 'Embarked' column. Using one hot encoding will create embarked_S, embarked_C, and embarked_Q columns for each row. The True value will take a 1. This is crucial to preparing data for our model as it won't take kindly to non-numerics."
   ]
  },
  {
   "cell_type": "code",
   "execution_count": 34,
   "metadata": {
    "execution": {
     "iopub.execute_input": "2020-09-12T08:09:20.368207Z",
     "iopub.status.busy": "2020-09-12T08:09:20.367529Z",
     "iopub.status.idle": "2020-09-12T08:09:20.381418Z",
     "shell.execute_reply": "2020-09-12T08:09:20.380869Z"
    },
    "papermill": {
     "duration": 0.075982,
     "end_time": "2020-09-12T08:09:20.381547",
     "exception": false,
     "start_time": "2020-09-12T08:09:20.305565",
     "status": "completed"
    },
    "tags": []
   },
   "outputs": [],
   "source": [
    "train_df = pd.get_dummies(train)\n",
    "test_df = pd.get_dummies(test)"
   ]
  },
  {
   "cell_type": "code",
   "execution_count": 35,
   "metadata": {
    "execution": {
     "iopub.execute_input": "2020-09-12T08:09:20.489524Z",
     "iopub.status.busy": "2020-09-12T08:09:20.488883Z",
     "iopub.status.idle": "2020-09-12T08:09:20.492397Z",
     "shell.execute_reply": "2020-09-12T08:09:20.491751Z"
    },
    "papermill": {
     "duration": 0.060131,
     "end_time": "2020-09-12T08:09:20.492508",
     "exception": false,
     "start_time": "2020-09-12T08:09:20.432377",
     "status": "completed"
    },
    "tags": []
   },
   "outputs": [],
   "source": [
    "#axis 1 refers to columns!\n",
    "train_df.drop('PassengerId', axis = 1, inplace = True)"
   ]
  },
  {
   "cell_type": "markdown",
   "metadata": {
    "papermill": {
     "duration": 0.050632,
     "end_time": "2020-09-12T08:09:20.594516",
     "exception": false,
     "start_time": "2020-09-12T08:09:20.543884",
     "status": "completed"
    },
    "tags": []
   },
   "source": [
    "We can see above how one hot encoding alters the dataframe."
   ]
  },
  {
   "cell_type": "markdown",
   "metadata": {
    "papermill": {
     "duration": 0.050444,
     "end_time": "2020-09-12T08:09:20.695410",
     "exception": false,
     "start_time": "2020-09-12T08:09:20.644966",
     "status": "completed"
    },
    "tags": []
   },
   "source": [
    "## Prepare Data"
   ]
  },
  {
   "cell_type": "code",
   "execution_count": 36,
   "metadata": {
    "execution": {
     "iopub.execute_input": "2020-09-12T08:09:20.806498Z",
     "iopub.status.busy": "2020-09-12T08:09:20.805874Z",
     "iopub.status.idle": "2020-09-12T08:09:20.808942Z",
     "shell.execute_reply": "2020-09-12T08:09:20.809450Z"
    },
    "papermill": {
     "duration": 0.063181,
     "end_time": "2020-09-12T08:09:20.809592",
     "exception": false,
     "start_time": "2020-09-12T08:09:20.746411",
     "status": "completed"
    },
    "tags": []
   },
   "outputs": [],
   "source": [
    "y = train_df['Survived']\n",
    "train_df.drop('Survived', axis = 1, inplace = True)\n",
    "train_df.drop('Cabin_T', axis = 1, inplace = True)\n",
    "test_df.drop('PassengerId', axis = 1, inplace = True)"
   ]
  },
  {
   "cell_type": "code",
   "execution_count": 37,
   "metadata": {
    "execution": {
     "iopub.execute_input": "2020-09-12T08:09:20.916558Z",
     "iopub.status.busy": "2020-09-12T08:09:20.915733Z",
     "iopub.status.idle": "2020-09-12T08:09:20.917807Z",
     "shell.execute_reply": "2020-09-12T08:09:20.918317Z"
    },
    "papermill": {
     "duration": 0.057895,
     "end_time": "2020-09-12T08:09:20.918456",
     "exception": false,
     "start_time": "2020-09-12T08:09:20.860561",
     "status": "completed"
    },
    "tags": []
   },
   "outputs": [],
   "source": [
    "X_test = test_df\n",
    "X_train = train_df"
   ]
  },
  {
   "cell_type": "code",
   "execution_count": 38,
   "metadata": {
    "execution": {
     "iopub.execute_input": "2020-09-12T08:09:21.026674Z",
     "iopub.status.busy": "2020-09-12T08:09:21.026011Z",
     "iopub.status.idle": "2020-09-12T08:09:21.333639Z",
     "shell.execute_reply": "2020-09-12T08:09:21.332942Z"
    },
    "papermill": {
     "duration": 0.36384,
     "end_time": "2020-09-12T08:09:21.333747",
     "exception": false,
     "start_time": "2020-09-12T08:09:20.969907",
     "status": "completed"
    },
    "tags": []
   },
   "outputs": [],
   "source": [
    "from sklearn.ensemble import RandomForestClassifier\n",
    "from sklearn.model_selection import GridSearchCV"
   ]
  },
  {
   "cell_type": "code",
   "execution_count": 39,
   "metadata": {
    "execution": {
     "iopub.execute_input": "2020-09-12T08:09:21.442613Z",
     "iopub.status.busy": "2020-09-12T08:09:21.441693Z",
     "iopub.status.idle": "2020-09-12T08:09:21.444830Z",
     "shell.execute_reply": "2020-09-12T08:09:21.444371Z"
    },
    "papermill": {
     "duration": 0.059262,
     "end_time": "2020-09-12T08:09:21.444939",
     "exception": false,
     "start_time": "2020-09-12T08:09:21.385677",
     "status": "completed"
    },
    "tags": []
   },
   "outputs": [],
   "source": [
    "rfc = RandomForestClassifier()"
   ]
  },
  {
   "cell_type": "markdown",
   "metadata": {
    "papermill": {
     "duration": 0.051674,
     "end_time": "2020-09-12T08:09:21.547711",
     "exception": false,
     "start_time": "2020-09-12T08:09:21.496037",
     "status": "completed"
    },
    "tags": []
   },
   "source": [
    "### Tuning Hyperparameters "
   ]
  },
  {
   "cell_type": "markdown",
   "metadata": {
    "papermill": {
     "duration": 0.050913,
     "end_time": "2020-09-12T08:09:21.649809",
     "exception": false,
     "start_time": "2020-09-12T08:09:21.598896",
     "status": "completed"
    },
    "tags": []
   },
   "source": [
    "GridSearchCV and RandomizedSearchCV are excellent tools for determing the best hyperparameters for your models! This can increase your model accuracy significantly. The only downside is it takes quite some time to run so if using very large datasets you will want to convert to numpy arrays for much faster training time. The dataset in this competition is fairly small so we won't both with this."
   ]
  },
  {
   "cell_type": "code",
   "execution_count": 40,
   "metadata": {
    "execution": {
     "iopub.execute_input": "2020-09-12T08:09:21.757712Z",
     "iopub.status.busy": "2020-09-12T08:09:21.756950Z",
     "iopub.status.idle": "2020-09-12T08:09:21.759071Z",
     "shell.execute_reply": "2020-09-12T08:09:21.759674Z"
    },
    "papermill": {
     "duration": 0.058385,
     "end_time": "2020-09-12T08:09:21.759806",
     "exception": false,
     "start_time": "2020-09-12T08:09:21.701421",
     "status": "completed"
    },
    "tags": []
   },
   "outputs": [],
   "source": [
    "param_grid = {\n",
    "    'n_estimators': [200, 500, 1000],\n",
    "    'max_features': ['auto'],\n",
    "    'max_depth': [6, 7, 8],\n",
    "    'criterion': ['entropy']\n",
    "}"
   ]
  },
  {
   "cell_type": "markdown",
   "metadata": {
    "papermill": {
     "duration": 0.050951,
     "end_time": "2020-09-12T08:09:21.862631",
     "exception": false,
     "start_time": "2020-09-12T08:09:21.811680",
     "status": "completed"
    },
    "tags": []
   },
   "source": [
    "Our param grid is set up as a dictionary so that GridSearch can take in and read the parameters. This search will perform 3 X 1 X 3 X 1 = 9 different combinations and then fit them 5 times (cv = 5), resulting in 45 models trained. Calling best_estimator_ or best_params_ will give us the model that peformed the best."
   ]
  },
  {
   "cell_type": "code",
   "execution_count": 41,
   "metadata": {
    "execution": {
     "iopub.execute_input": "2020-09-12T08:09:21.971199Z",
     "iopub.status.busy": "2020-09-12T08:09:21.970584Z",
     "iopub.status.idle": "2020-09-12T08:10:09.812986Z",
     "shell.execute_reply": "2020-09-12T08:10:09.813516Z"
    },
    "papermill": {
     "duration": 47.900032,
     "end_time": "2020-09-12T08:10:09.813662",
     "exception": false,
     "start_time": "2020-09-12T08:09:21.913630",
     "status": "completed"
    },
    "tags": []
   },
   "outputs": [
    {
     "data": {
      "text/plain": [
       "RandomForestClassifier(criterion='entropy', max_depth=8, n_estimators=200)"
      ]
     },
     "execution_count": 41,
     "metadata": {},
     "output_type": "execute_result"
    }
   ],
   "source": [
    "CV = GridSearchCV(estimator = rfc, param_grid = param_grid, cv = 5)\n",
    "CV.fit(X_train, y)\n",
    "CV.best_estimator_"
   ]
  },
  {
   "cell_type": "code",
   "execution_count": 42,
   "metadata": {
    "execution": {
     "iopub.execute_input": "2020-09-12T08:10:09.922683Z",
     "iopub.status.busy": "2020-09-12T08:10:09.922015Z",
     "iopub.status.idle": "2020-09-12T08:10:09.925073Z",
     "shell.execute_reply": "2020-09-12T08:10:09.924611Z"
    },
    "papermill": {
     "duration": 0.059338,
     "end_time": "2020-09-12T08:10:09.925203",
     "exception": false,
     "start_time": "2020-09-12T08:10:09.865865",
     "status": "completed"
    },
    "tags": []
   },
   "outputs": [],
   "source": [
    "rfc = RandomForestClassifier(criterion = 'entropy', max_depth = 8, n_estimators = 500, random_state = 42)"
   ]
  },
  {
   "cell_type": "code",
   "execution_count": 43,
   "metadata": {
    "execution": {
     "iopub.execute_input": "2020-09-12T08:10:10.035787Z",
     "iopub.status.busy": "2020-09-12T08:10:10.035174Z",
     "iopub.status.idle": "2020-09-12T08:10:10.978187Z",
     "shell.execute_reply": "2020-09-12T08:10:10.978621Z"
    },
    "papermill": {
     "duration": 1.001778,
     "end_time": "2020-09-12T08:10:10.978765",
     "exception": false,
     "start_time": "2020-09-12T08:10:09.976987",
     "status": "completed"
    },
    "tags": []
   },
   "outputs": [
    {
     "data": {
      "text/plain": [
       "RandomForestClassifier(criterion='entropy', max_depth=8, n_estimators=500,\n",
       "                       random_state=42)"
      ]
     },
     "execution_count": 43,
     "metadata": {},
     "output_type": "execute_result"
    }
   ],
   "source": [
    "rfc.fit(X_train, y)"
   ]
  },
  {
   "cell_type": "code",
   "execution_count": 44,
   "metadata": {
    "execution": {
     "iopub.execute_input": "2020-09-12T08:10:11.091730Z",
     "iopub.status.busy": "2020-09-12T08:10:11.091117Z",
     "iopub.status.idle": "2020-09-12T08:10:11.161557Z",
     "shell.execute_reply": "2020-09-12T08:10:11.160964Z"
    },
    "papermill": {
     "duration": 0.130728,
     "end_time": "2020-09-12T08:10:11.161673",
     "exception": false,
     "start_time": "2020-09-12T08:10:11.030945",
     "status": "completed"
    },
    "tags": []
   },
   "outputs": [],
   "source": [
    "y_pred = rfc.predict(X_test)"
   ]
  },
  {
   "cell_type": "code",
   "execution_count": 45,
   "metadata": {
    "execution": {
     "iopub.execute_input": "2020-09-12T08:10:11.274031Z",
     "iopub.status.busy": "2020-09-12T08:10:11.273347Z",
     "iopub.status.idle": "2020-09-12T08:10:11.277312Z",
     "shell.execute_reply": "2020-09-12T08:10:11.276710Z"
    },
    "papermill": {
     "duration": 0.062604,
     "end_time": "2020-09-12T08:10:11.277424",
     "exception": false,
     "start_time": "2020-09-12T08:10:11.214820",
     "status": "completed"
    },
    "tags": []
   },
   "outputs": [
    {
     "data": {
      "text/plain": [
       "array([0, 0, 0, 0, 1, 0, 0, 0, 1, 0, 0, 0, 1, 0, 1, 1, 0, 0, 0, 1, 0, 0,\n",
       "       1, 0, 1, 0, 1, 0, 0, 0, 0, 0, 1, 0, 0, 0, 0, 0, 0, 0, 0, 1, 0, 1,\n",
       "       1, 0, 0, 0, 1, 1, 0, 0, 1, 1, 0, 0, 0, 0, 0, 1, 0, 0, 0, 1, 1, 1,\n",
       "       1, 0, 0, 1, 1, 0, 0, 1, 1, 0, 0, 1, 0, 1, 1, 0, 0, 0, 0, 0, 1, 0,\n",
       "       1, 1, 1, 0, 1, 0, 0, 0, 1, 0, 0, 0, 1, 0, 0, 0, 1, 0, 0, 0, 0, 0,\n",
       "       0, 1, 1, 1, 1, 0, 0, 1, 0, 1, 1, 0, 1, 0, 0, 1, 0, 1, 0, 0, 0, 0,\n",
       "       0, 0, 0, 0, 0, 0, 0, 0, 0, 1, 0, 0, 0, 0, 1, 0, 0, 0, 1, 0, 0, 1,\n",
       "       0, 0, 1, 1, 0, 1, 1, 1, 1, 0, 0, 0, 0, 0, 1, 0, 0, 0, 0, 0, 0, 1,\n",
       "       1, 0, 1, 1, 0, 1, 1, 0, 1, 0, 1, 0, 0, 0, 0, 0, 0, 0, 1, 0, 1, 1,\n",
       "       0, 0, 1, 1, 0, 1, 0, 0, 0, 0, 1, 0, 0, 0, 0, 1, 0, 0, 1, 0, 1, 0,\n",
       "       1, 0, 1, 0, 1, 0, 0, 1, 0, 0, 0, 1, 0, 0, 0, 0, 0, 0, 1, 1, 1, 1,\n",
       "       0, 0, 0, 0, 1, 0, 1, 0, 1, 0, 0, 0, 0, 0, 0, 0, 1, 0, 0, 0, 1, 1,\n",
       "       0, 0, 0, 0, 0, 0, 0, 0, 1, 1, 0, 1, 0, 0, 0, 0, 0, 1, 1, 0, 1, 0,\n",
       "       0, 0, 0, 0, 0, 0, 0, 0, 0, 0, 1, 0, 0, 0, 0, 0, 0, 0, 1, 1, 0, 1,\n",
       "       0, 0, 0, 0, 0, 0, 1, 1, 0, 0, 0, 0, 0, 0, 0, 0, 1, 0, 1, 0, 0, 0,\n",
       "       1, 0, 0, 1, 0, 0, 0, 0, 0, 0, 0, 0, 0, 1, 0, 1, 0, 1, 0, 1, 1, 0,\n",
       "       0, 0, 1, 0, 1, 0, 0, 1, 0, 1, 1, 0, 1, 0, 0, 0, 1, 0, 0, 1, 0, 0,\n",
       "       1, 1, 0, 0, 0, 0, 0, 0, 1, 1, 0, 1, 0, 0, 0, 0, 0, 1, 0, 0, 0, 1,\n",
       "       0, 1, 0, 0, 1, 0, 1, 0, 1, 0, 0, 0, 1, 1, 1, 1, 0, 0, 1, 0, 0, 0])"
      ]
     },
     "execution_count": 45,
     "metadata": {},
     "output_type": "execute_result"
    }
   ],
   "source": [
    "#we can reshape this array using .reshape(-1, 1)\n",
    "y_pred"
   ]
  },
  {
   "cell_type": "markdown",
   "metadata": {
    "papermill": {
     "duration": 0.052388,
     "end_time": "2020-09-12T08:10:11.383068",
     "exception": false,
     "start_time": "2020-09-12T08:10:11.330680",
     "status": "completed"
    },
    "tags": []
   },
   "source": [
    "### Submission To CSV"
   ]
  },
  {
   "cell_type": "code",
   "execution_count": 46,
   "metadata": {
    "execution": {
     "iopub.execute_input": "2020-09-12T08:10:11.495202Z",
     "iopub.status.busy": "2020-09-12T08:10:11.494173Z",
     "iopub.status.idle": "2020-09-12T08:10:11.497214Z",
     "shell.execute_reply": "2020-09-12T08:10:11.496686Z"
    },
    "papermill": {
     "duration": 0.060437,
     "end_time": "2020-09-12T08:10:11.497331",
     "exception": false,
     "start_time": "2020-09-12T08:10:11.436894",
     "status": "completed"
    },
    "tags": []
   },
   "outputs": [],
   "source": [
    "#reshape array so that it can be used in a dataframe for easy submission!\n",
    "submission = y_pred.reshape(-1, 1)"
   ]
  },
  {
   "cell_type": "markdown",
   "metadata": {
    "papermill": {
     "duration": 0.052657,
     "end_time": "2020-09-12T08:10:11.603734",
     "exception": false,
     "start_time": "2020-09-12T08:10:11.551077",
     "status": "completed"
    },
    "tags": []
   },
   "source": [
    "Take a look at your submission object now by calling (submission). It should print out the array reshaped. I won't include it here because it will make the reader scroll quite a bit to pass the section."
   ]
  },
  {
   "cell_type": "code",
   "execution_count": 47,
   "metadata": {
    "execution": {
     "iopub.execute_input": "2020-09-12T08:10:11.714535Z",
     "iopub.status.busy": "2020-09-12T08:10:11.713879Z",
     "iopub.status.idle": "2020-09-12T08:10:11.717229Z",
     "shell.execute_reply": "2020-09-12T08:10:11.716696Z"
    },
    "papermill": {
     "duration": 0.060664,
     "end_time": "2020-09-12T08:10:11.717356",
     "exception": false,
     "start_time": "2020-09-12T08:10:11.656692",
     "status": "completed"
    },
    "tags": []
   },
   "outputs": [],
   "source": [
    "sub_df = pd.DataFrame(submission)"
   ]
  },
  {
   "cell_type": "code",
   "execution_count": 48,
   "metadata": {
    "execution": {
     "iopub.execute_input": "2020-09-12T08:10:11.834511Z",
     "iopub.status.busy": "2020-09-12T08:10:11.833377Z",
     "iopub.status.idle": "2020-09-12T08:10:11.836228Z",
     "shell.execute_reply": "2020-09-12T08:10:11.835614Z"
    },
    "papermill": {
     "duration": 0.065764,
     "end_time": "2020-09-12T08:10:11.836336",
     "exception": false,
     "start_time": "2020-09-12T08:10:11.770572",
     "status": "completed"
    },
    "tags": []
   },
   "outputs": [],
   "source": [
    "sub_df['PassengerId'] = test['PassengerId']\n",
    "sub_df['Survived'] = submission\n",
    "cols = ['PassengerId',\n",
    "       'Survived']\n",
    "sub_df.drop(0, axis = 1, inplace = True)\n",
    "sub_df.columns = [i for i in cols]\n",
    "sub_df = sub_df.set_index('PassengerId')"
   ]
  },
  {
   "cell_type": "code",
   "execution_count": 49,
   "metadata": {
    "execution": {
     "iopub.execute_input": "2020-09-12T08:10:11.950598Z",
     "iopub.status.busy": "2020-09-12T08:10:11.949890Z",
     "iopub.status.idle": "2020-09-12T08:10:11.954464Z",
     "shell.execute_reply": "2020-09-12T08:10:11.953798Z"
    },
    "papermill": {
     "duration": 0.064965,
     "end_time": "2020-09-12T08:10:11.954573",
     "exception": false,
     "start_time": "2020-09-12T08:10:11.889608",
     "status": "completed"
    },
    "tags": []
   },
   "outputs": [
    {
     "data": {
      "text/html": [
       "<div>\n",
       "<style scoped>\n",
       "    .dataframe tbody tr th:only-of-type {\n",
       "        vertical-align: middle;\n",
       "    }\n",
       "\n",
       "    .dataframe tbody tr th {\n",
       "        vertical-align: top;\n",
       "    }\n",
       "\n",
       "    .dataframe thead th {\n",
       "        text-align: right;\n",
       "    }\n",
       "</style>\n",
       "<table border=\"1\" class=\"dataframe\">\n",
       "  <thead>\n",
       "    <tr style=\"text-align: right;\">\n",
       "      <th></th>\n",
       "      <th>Survived</th>\n",
       "    </tr>\n",
       "    <tr>\n",
       "      <th>PassengerId</th>\n",
       "      <th></th>\n",
       "    </tr>\n",
       "  </thead>\n",
       "  <tbody>\n",
       "    <tr>\n",
       "      <th>892</th>\n",
       "      <td>0</td>\n",
       "    </tr>\n",
       "    <tr>\n",
       "      <th>893</th>\n",
       "      <td>0</td>\n",
       "    </tr>\n",
       "    <tr>\n",
       "      <th>894</th>\n",
       "      <td>0</td>\n",
       "    </tr>\n",
       "    <tr>\n",
       "      <th>895</th>\n",
       "      <td>0</td>\n",
       "    </tr>\n",
       "    <tr>\n",
       "      <th>896</th>\n",
       "      <td>1</td>\n",
       "    </tr>\n",
       "    <tr>\n",
       "      <th>897</th>\n",
       "      <td>0</td>\n",
       "    </tr>\n",
       "    <tr>\n",
       "      <th>898</th>\n",
       "      <td>0</td>\n",
       "    </tr>\n",
       "    <tr>\n",
       "      <th>899</th>\n",
       "      <td>0</td>\n",
       "    </tr>\n",
       "    <tr>\n",
       "      <th>900</th>\n",
       "      <td>1</td>\n",
       "    </tr>\n",
       "    <tr>\n",
       "      <th>901</th>\n",
       "      <td>0</td>\n",
       "    </tr>\n",
       "  </tbody>\n",
       "</table>\n",
       "</div>"
      ],
      "text/plain": [
       "             Survived\n",
       "PassengerId          \n",
       "892                 0\n",
       "893                 0\n",
       "894                 0\n",
       "895                 0\n",
       "896                 1\n",
       "897                 0\n",
       "898                 0\n",
       "899                 0\n",
       "900                 1\n",
       "901                 0"
      ]
     },
     "execution_count": 49,
     "metadata": {},
     "output_type": "execute_result"
    }
   ],
   "source": [
    "sub_df.head(10)"
   ]
  },
  {
   "cell_type": "code",
   "execution_count": 50,
   "metadata": {
    "execution": {
     "iopub.execute_input": "2020-09-12T08:10:12.070469Z",
     "iopub.status.busy": "2020-09-12T08:10:12.069810Z",
     "iopub.status.idle": "2020-09-12T08:10:12.342015Z",
     "shell.execute_reply": "2020-09-12T08:10:12.341464Z"
    },
    "papermill": {
     "duration": 0.333753,
     "end_time": "2020-09-12T08:10:12.342159",
     "exception": false,
     "start_time": "2020-09-12T08:10:12.008406",
     "status": "completed"
    },
    "tags": []
   },
   "outputs": [],
   "source": [
    "#put file path in string!\n",
    "sub_df.to_csv(r'submission.csv')"
   ]
  },
  {
   "cell_type": "markdown",
   "metadata": {
    "papermill": {
     "duration": 0.054248,
     "end_time": "2020-09-12T08:10:12.451556",
     "exception": false,
     "start_time": "2020-09-12T08:10:12.397308",
     "status": "completed"
    },
    "tags": []
   },
   "source": [
    "We have just achieved top 10% Thanks for following along. Make sure to give this notebook an upvote if it was helpful!"
   ]
  }
 ],
 "metadata": {
  "kernelspec": {
   "display_name": "Python 3",
   "language": "python",
   "name": "python3"
  },
  "language_info": {
   "codemirror_mode": {
    "name": "ipython",
    "version": 3
   },
   "file_extension": ".py",
   "mimetype": "text/x-python",
   "name": "python",
   "nbconvert_exporter": "python",
   "pygments_lexer": "ipython3",
   "version": "3.7.6"
  },
  "papermill": {
   "duration": 66.70231,
   "end_time": "2020-09-12T08:10:12.613838",
   "environment_variables": {},
   "exception": null,
   "input_path": "__notebook__.ipynb",
   "output_path": "__notebook__.ipynb",
   "parameters": {},
   "start_time": "2020-09-12T08:09:05.911528",
   "version": "2.1.0"
  }
 },
 "nbformat": 4,
 "nbformat_minor": 4
}
